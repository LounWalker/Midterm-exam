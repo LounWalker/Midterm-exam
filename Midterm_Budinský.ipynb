{
 "cells": [
  {
   "cell_type": "code",
   "execution_count": 62,
   "metadata": {},
   "outputs": [
    {
     "name": "stdout",
     "output_type": "stream",
     "text": [
      "200\n",
      "('Food Producers', 1)\n",
      "('Support Services', 8)\n"
     ]
    },
    {
     "data": {
      "image/png": "[encoded data removed]",
      "text/plain": [
       "<Figure size 432x288 with 1 Axes>"
      ]
     },
     "metadata": {
      "needs_background": "light"
     },
     "output_type": "display_data"
    }
   ],
   "source": [
    "import requests\n",
    "import pandas as pd\n",
    "from bs4 import BeautifulSoup\n",
    "import json\n",
    "import matplotlib.pyplot as plt\n",
    "\n",
    "#Task 1\n",
    "\n",
    "url='https://en.wikipedia.org/wiki/FTSE_100_Index'\n",
    "r=requests.get(url)\n",
    "print(response.status_code)\n",
    "soup=BeautifulSoup(r.content,'html.parser')\n",
    "table=soup.find('table',{'id':'constituents'}).find('tbody')\n",
    "\n",
    "#print(table)\n",
    "\n",
    "data={}\n",
    "\n",
    "def create_data(table):\n",
    "    table_tr=table.find_all('tr')\n",
    "    for tr in table_tr:\n",
    "        td=tr.findAll('td')\n",
    "        #print(td)\n",
    "        if len(td)==3:\n",
    "            data[td[0].text]=[td[1].text,td[2].text.replace('\\n','')]\n",
    "    #print(data)       \n",
    "    \n",
    "create_data(table)\n",
    "\n",
    "companies=[]\n",
    "tickers=[]\n",
    "industry=[]\n",
    "\n",
    "for key in data:\n",
    "    companies.append(key)\n",
    "    tickers.append(data[key][0])\n",
    "    industry.append(data[key][1])\n",
    "    \n",
    "#print(companies,tickers,industry)\n",
    "\n",
    "\n",
    "\n",
    "#Task 3\n",
    "\n",
    "freq_ind = {}\n",
    "\n",
    "def CountFrequency(list): \n",
    "  \n",
    "    # Creating an empty dictionary  \n",
    "    \n",
    "    for item in list: \n",
    "        if (item in freq_ind): \n",
    "            freq_ind[item] += 1\n",
    "        else: \n",
    "            freq_ind[item] = 1\n",
    "  \n",
    "    #for key, value in freq.items(): \n",
    "        #print ((key, value)) \n",
    "\n",
    "CountFrequency(industry)\n",
    "\n",
    "print(min(freq_ind.items(), key=lambda x: x[1]))  # industry with minimal frequency\n",
    "\n",
    "print(max(freq_ind.items(), key=lambda x: x[1]))  # industry with maximal frequency\n",
    "\n",
    "\n",
    "plt.bar(list(freq_ind.keys()), freq_ind.values(), color='g')\n",
    "plt.show()\n",
    "\n"
   ]
  },
  {
   "cell_type": "code",
   "execution_count": null,
   "metadata": {},
   "outputs": [],
   "source": []
  }
 ],
 "metadata": {
  "kernelspec": {
   "display_name": "Python 3",
   "language": "python",
   "name": "python3"
  },
  "language_info": {
   "codemirror_mode": {
    "name": "ipython",
    "version": 3
   },
   "file_extension": ".py",
   "mimetype": "text/x-python",
   "name": "python",
   "nbconvert_exporter": "python",
   "pygments_lexer": "ipython3",
   "version": "3.8.3"
  }
 },
 "nbformat": 4,
 "nbformat_minor": 4
}
